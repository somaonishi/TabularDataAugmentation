{
 "cells": [
  {
   "cell_type": "code",
   "execution_count": 62,
   "metadata": {},
   "outputs": [],
   "source": [
    "%matplotlib inline\n",
    "import matplotlib.pyplot as plt\n",
    "from tensorboard.backend.event_processing.plugin_event_accumulator import EventAccumulator\n",
    "import glob\n",
    "import re\n",
    "import numpy as np"
   ]
  },
  {
   "cell_type": "code",
   "execution_count": 63,
   "metadata": {},
   "outputs": [],
   "source": [
    "# income\n",
    "model_date = '2022-07-14/14-41-19'\n",
    "data_name = 'income'\n",
    "# # mnist\n",
    "# model_date = '2022-07-13/18-58-29'\n",
    "# data_name = 'mnist'\n",
    "# # blog\n",
    "# model_date = '2022-07-13/19-01-02'\n",
    "# data_name = 'blog'\n",
    "\n",
    "num_path = 10"
   ]
  },
  {
   "cell_type": "code",
   "execution_count": 64,
   "metadata": {},
   "outputs": [],
   "source": [
    "result_root = f'outputs/multirun/main/supervised/{data_name}/model/{model_date}/'\n",
    "model_root = f'outputs/multirun/main/supervised/{data_name}/model/{model_date}/**/events*'"
   ]
  },
  {
   "cell_type": "code",
   "execution_count": 67,
   "metadata": {},
   "outputs": [],
   "source": [
    "def get_results(root):\n",
    "    path = glob.glob(root)\n",
    "    path = sorted(path, key=lambda s: int(re.findall(r'\\d+', s)[6]))\n",
    "    num_hypara = len(path) // 10\n",
    "    results = [[] for _ in range(num_hypara)]\n",
    "    for i in range(num_hypara):\n",
    "        for j in range(10):\n",
    "            ea = EventAccumulator(path[i * 10 + j])\n",
    "            ea.Reload()\n",
    "            # acc\n",
    "            tag = ea.Tags()['tensors'][-1]\n",
    "            for t in ea.Tensors(tag):\n",
    "                results[i].append(t.tensor_proto.float_val[0])\n",
    "    return np.array(results)\n"
   ]
  },
  {
   "cell_type": "code",
   "execution_count": 68,
   "metadata": {},
   "outputs": [],
   "source": [
    "r = get_results(model_root)\n"
   ]
  },
  {
   "cell_type": "code",
   "execution_count": 70,
   "metadata": {},
   "outputs": [],
   "source": [
    "x = [0.01, 0.05, 0.1, 0.2, 0.5, 1.0]"
   ]
  },
  {
   "cell_type": "code",
   "execution_count": 77,
   "metadata": {},
   "outputs": [
    {
     "data": {
      "text/plain": [
       "array([0.13661268, 0.09143988, 0.07819954, 0.08341347, 0.08643857,\n",
       "       0.08638675])"
      ]
     },
     "execution_count": 77,
     "metadata": {},
     "output_type": "execute_result"
    }
   ],
   "source": [
    "me = r.mean(axis=1)\n",
    "std = r.std(axis=1)\n",
    "std"
   ]
  },
  {
   "cell_type": "code",
   "execution_count": 81,
   "metadata": {},
   "outputs": [
    {
     "data": {
      "image/png": "[encoded data removed]",
      "text/plain": [
       "<Figure size 432x288 with 1 Axes>"
      ]
     },
     "metadata": {
      "needs_background": "light"
     },
     "output_type": "display_data"
    }
   ],
   "source": [
    "plt.plot(x, me)\n",
    "plt.fill_between(x, me+std, me-std, alpha=0.2)\n",
    "plt.grid()"
   ]
  },
  {
   "cell_type": "code",
   "execution_count": null,
   "metadata": {},
   "outputs": [],
   "source": []
  }
 ],
 "metadata": {
  "kernelspec": {
   "display_name": "Python 3.8.10 ('venv': venv)",
   "language": "python",
   "name": "python3"
  },
  "language_info": {
   "codemirror_mode": {
    "name": "ipython",
    "version": 3
   },
   "file_extension": ".py",
   "mimetype": "text/x-python",
   "name": "python",
   "nbconvert_exporter": "python",
   "pygments_lexer": "ipython3",
   "version": "3.8.10"
  },
  "orig_nbformat": 4,
  "vscode": {
   "interpreter": {
    "hash": "de20d6fe0eca0c466662a306a365c9aa9d0ac8052303d86a185c09040380618b"
   }
  }
 },
 "nbformat": 4,
 "nbformat_minor": 2
}
