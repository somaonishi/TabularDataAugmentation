{
 "cells": [
  {
   "cell_type": "code",
   "execution_count": 35,
   "metadata": {},
   "outputs": [],
   "source": [
    "%matplotlib inline\n",
    "import matplotlib.pyplot as plt\n",
    "from tensorboard.backend.event_processing.plugin_event_accumulator import EventAccumulator\n",
    "import glob\n",
    "import numpy as np"
   ]
  },
  {
   "cell_type": "code",
   "execution_count": 36,
   "metadata": {},
   "outputs": [],
   "source": [
    "# income\n",
    "model_date = '2022-07-13/19-00-38'\n",
    "data_name = 'income'\n",
    "# # mnist\n",
    "# model_date = '2022-07-13/18-58-29'\n",
    "# data_name = 'mnist'\n",
    "# # blog\n",
    "# model_date = '2022-07-13/19-01-02'\n",
    "# data_name = 'blog'\n",
    "\n",
    "num_path = 10"
   ]
  },
  {
   "cell_type": "code",
   "execution_count": 37,
   "metadata": {},
   "outputs": [],
   "source": [
    "model_root = f'outputs/multirun/main/semi/{data_name}/model/{model_date}/**/events*'"
   ]
  },
  {
   "cell_type": "code",
   "execution_count": 38,
   "metadata": {},
   "outputs": [],
   "source": [
    "def print_results(root):\n",
    "    path = glob.glob(root)\n",
    "    path.sort()\n",
    "    path = path[:num_path]\n",
    "    results = []\n",
    "    for p in path:\n",
    "        ea = EventAccumulator(p)\n",
    "        ea.Reload()\n",
    "        # acc\n",
    "        tag = ea.Tags()['tensors'][-1]\n",
    "        for i, t in enumerate(ea.Tensors(tag)):\n",
    "            results.append(t.tensor_proto.float_val[0])\n",
    "    print(len(results), sum(results) / len(results))"
   ]
  },
  {
   "cell_type": "code",
   "execution_count": 39,
   "metadata": {},
   "outputs": [
    {
     "name": "stdout",
     "output_type": "stream",
     "text": [
      "10 85.2946159362793\n"
     ]
    }
   ],
   "source": [
    "print_results(model_root)\n"
   ]
  },
  {
   "cell_type": "code",
   "execution_count": null,
   "metadata": {},
   "outputs": [],
   "source": []
  }
 ],
 "metadata": {
  "kernelspec": {
   "display_name": "Python 3.8.10 ('venv': venv)",
   "language": "python",
   "name": "python3"
  },
  "language_info": {
   "codemirror_mode": {
    "name": "ipython",
    "version": 3
   },
   "file_extension": ".py",
   "mimetype": "text/x-python",
   "name": "python",
   "nbconvert_exporter": "python",
   "pygments_lexer": "ipython3",
   "version": "3.8.10"
  },
  "orig_nbformat": 4,
  "vscode": {
   "interpreter": {
    "hash": "de20d6fe0eca0c466662a306a365c9aa9d0ac8052303d86a185c09040380618b"
   }
  }
 },
 "nbformat": 4,
 "nbformat_minor": 2
}
