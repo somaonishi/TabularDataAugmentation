{
 "cells": [
  {
   "cell_type": "code",
   "execution_count": 1,
   "metadata": {},
   "outputs": [],
   "source": [
    "%matplotlib inline\n",
    "import matplotlib.pyplot as plt\n",
    "from tensorboard.backend.event_processing.plugin_event_accumulator import EventAccumulator\n",
    "import glob\n",
    "import numpy as np"
   ]
  },
  {
   "cell_type": "code",
   "execution_count": 2,
   "metadata": {},
   "outputs": [],
   "source": [
    "# income\n",
    "input_date = '2022-07-06/17-43-22'\n",
    "model_date = '2022-07-06/17-43-22'\n",
    "data_name = 'income'\n",
    "y_lim = [85.0, 86.5]\n",
    "# # mnist\n",
    "# input_date = '2022-07-06/17-43-24'\n",
    "# model_date = '2022-07-06/17-43-23'\n",
    "# data_name = 'mnist'\n",
    "# y_lim = [95, 99]\n",
    "# # blog\n",
    "# input_date = '2022-07-07/00-51-31'\n",
    "# model_date = '2022-07-07/00-50-56'\n",
    "# data_name = 'blog'\n",
    "# y_lim = [77, 84]\n",
    "# # covertype\n",
    "input_date = '2022-07-07/00-52-34'\n",
    "model_date = '2022-07-07/00-52-03'\n",
    "data_name = 'covertype'\n",
    "y_lim = [71, 78]\n",
    "\n",
    "num_comb = 32\n",
    "num_path = 10"
   ]
  },
  {
   "cell_type": "code",
   "execution_count": 3,
   "metadata": {},
   "outputs": [],
   "source": [
    "input_root = f'outputs/multirun/main_all/supervised/{data_name}/input/{input_date}/**/events*'\n",
    "model_root = f'outputs/multirun/main_all/supervised/{data_name}/model/{model_date}/**/events*'"
   ]
  },
  {
   "cell_type": "code",
   "execution_count": 4,
   "metadata": {},
   "outputs": [],
   "source": [
    "def get_results(root):\n",
    "    path = glob.glob(root)\n",
    "    path.sort()\n",
    "    path = path[:num_path]\n",
    "    results = [[] for _ in range(num_comb)]\n",
    "    for p in path:\n",
    "        ea = EventAccumulator(p)\n",
    "        ea.Reload()\n",
    "        # acc\n",
    "        tag = ea.Tags()['tensors'][-1]\n",
    "        for i, t in enumerate(ea.Tensors(tag)):\n",
    "            results[i] += [t.tensor_proto.float_val[0]]\n",
    "    return results"
   ]
  },
  {
   "cell_type": "code",
   "execution_count": 5,
   "metadata": {},
   "outputs": [],
   "source": [
    "def show_box(results, title):\n",
    "    # 箱ひげ図\n",
    "    plt.figure(figsize=(100, 40))\n",
    "    fig, ax = plt.subplots()\n",
    "\n",
    "    bp = ax.boxplot(results)#, whis=np.inf)\n",
    "    ax.set_xticklabels(list(range(num_comb)))\n",
    "\n",
    "    m = np.mean(results[0])\n",
    "    plt.plot([0, num_comb + 1], [m, m])\n",
    "\n",
    "    plt.title(title)\n",
    "    plt.xlabel('augment number')\n",
    "    plt.ylabel('acc')\n",
    "    # Y軸のメモリのrange\n",
    "    plt.ylim(y_lim)\n",
    "    plt.xlim([0, num_comb + 1])\n",
    "    plt.grid()\n",
    "\n",
    "    # 描画\n",
    "    # plt.show()\n",
    "    plt.savefig(f'outputs/results/{data_name}_{title}.png', format=\"png\", dpi=100)\n",
    "    plt.close()\n"
   ]
  },
  {
   "cell_type": "code",
   "execution_count": 6,
   "metadata": {},
   "outputs": [
    {
     "name": "stdout",
     "output_type": "stream",
     "text": [
      "10 10\n"
     ]
    },
    {
     "data": {
      "text/plain": [
       "<Figure size 7200x2880 with 0 Axes>"
      ]
     },
     "metadata": {},
     "output_type": "display_data"
    },
    {
     "data": {
      "text/plain": [
       "<Figure size 7200x2880 with 0 Axes>"
      ]
     },
     "metadata": {},
     "output_type": "display_data"
    }
   ],
   "source": [
    "results_input = get_results(input_root)\n",
    "results_model = get_results(model_root)\n",
    "print(len(results_input[0]), len(results_model[0]))\n",
    "show_box(results_input, 'input')\n",
    "show_box(results_model, 'model')"
   ]
  },
  {
   "cell_type": "code",
   "execution_count": null,
   "metadata": {},
   "outputs": [],
   "source": []
  },
  {
   "cell_type": "code",
   "execution_count": 3,
   "metadata": {},
   "outputs": [],
   "source": [
    "from data.data_loader import read_csv"
   ]
  },
  {
   "cell_type": "code",
   "execution_count": 5,
   "metadata": {},
   "outputs": [],
   "source": [
    "df, _ = read_csv('dataset/blog/blogData_train.csv', 280, columns=None, missing_fn=None)"
   ]
  },
  {
   "cell_type": "code",
   "execution_count": 27,
   "metadata": {},
   "outputs": [
    {
     "ename": "KeyError",
     "evalue": "280",
     "output_type": "error",
     "traceback": [
      "\u001b[0;31m---------------------------------------------------------------------------\u001b[0m",
      "\u001b[0;31mKeyError\u001b[0m                                  Traceback (most recent call last)",
      "File \u001b[0;32m~/project/TabularDataAugmentation/venv/lib/python3.8/site-packages/pandas/core/indexes/base.py:3621\u001b[0m, in \u001b[0;36mIndex.get_loc\u001b[0;34m(self, key, method, tolerance)\u001b[0m\n\u001b[1;32m   3620\u001b[0m \u001b[39mtry\u001b[39;00m:\n\u001b[0;32m-> 3621\u001b[0m     \u001b[39mreturn\u001b[39;00m \u001b[39mself\u001b[39;49m\u001b[39m.\u001b[39;49m_engine\u001b[39m.\u001b[39;49mget_loc(casted_key)\n\u001b[1;32m   3622\u001b[0m \u001b[39mexcept\u001b[39;00m \u001b[39mKeyError\u001b[39;00m \u001b[39mas\u001b[39;00m err:\n",
      "File \u001b[0;32m~/project/TabularDataAugmentation/venv/lib/python3.8/site-packages/pandas/_libs/index.pyx:136\u001b[0m, in \u001b[0;36mpandas._libs.index.IndexEngine.get_loc\u001b[0;34m()\u001b[0m\n",
      "File \u001b[0;32m~/project/TabularDataAugmentation/venv/lib/python3.8/site-packages/pandas/_libs/index.pyx:163\u001b[0m, in \u001b[0;36mpandas._libs.index.IndexEngine.get_loc\u001b[0;34m()\u001b[0m\n",
      "File \u001b[0;32mpandas/_libs/hashtable_class_helper.pxi:2131\u001b[0m, in \u001b[0;36mpandas._libs.hashtable.Int64HashTable.get_item\u001b[0;34m()\u001b[0m\n",
      "File \u001b[0;32mpandas/_libs/hashtable_class_helper.pxi:2140\u001b[0m, in \u001b[0;36mpandas._libs.hashtable.Int64HashTable.get_item\u001b[0;34m()\u001b[0m\n",
      "\u001b[0;31mKeyError\u001b[0m: 280",
      "\nThe above exception was the direct cause of the following exception:\n",
      "\u001b[0;31mKeyError\u001b[0m                                  Traceback (most recent call last)",
      "\u001b[1;32m/home/onishi/project/TabularDataAugmentation/make_boxplot.ipynb Cell 10'\u001b[0m in \u001b[0;36m<cell line: 1>\u001b[0;34m()\u001b[0m\n\u001b[1;32m      <a href='vscode-notebook-cell://ssh-remote%2Blab-gpu/home/onishi/project/TabularDataAugmentation/make_boxplot.ipynb#ch0000009vscode-remote?line=0'>1</a>\u001b[0m \u001b[39mfor\u001b[39;00m i \u001b[39min\u001b[39;00m \u001b[39mrange\u001b[39m(\u001b[39m277\u001b[39m, \u001b[39m278\u001b[39m):\n\u001b[0;32m----> <a href='vscode-notebook-cell://ssh-remote%2Blab-gpu/home/onishi/project/TabularDataAugmentation/make_boxplot.ipynb#ch0000009vscode-remote?line=1'>2</a>\u001b[0m     \u001b[39mprint\u001b[39m(df[\u001b[39m280\u001b[39;49m]\u001b[39m.\u001b[39munique())\n",
      "File \u001b[0;32m~/project/TabularDataAugmentation/venv/lib/python3.8/site-packages/pandas/core/frame.py:3505\u001b[0m, in \u001b[0;36mDataFrame.__getitem__\u001b[0;34m(self, key)\u001b[0m\n\u001b[1;32m   3503\u001b[0m \u001b[39mif\u001b[39;00m \u001b[39mself\u001b[39m\u001b[39m.\u001b[39mcolumns\u001b[39m.\u001b[39mnlevels \u001b[39m>\u001b[39m \u001b[39m1\u001b[39m:\n\u001b[1;32m   3504\u001b[0m     \u001b[39mreturn\u001b[39;00m \u001b[39mself\u001b[39m\u001b[39m.\u001b[39m_getitem_multilevel(key)\n\u001b[0;32m-> 3505\u001b[0m indexer \u001b[39m=\u001b[39m \u001b[39mself\u001b[39;49m\u001b[39m.\u001b[39;49mcolumns\u001b[39m.\u001b[39;49mget_loc(key)\n\u001b[1;32m   3506\u001b[0m \u001b[39mif\u001b[39;00m is_integer(indexer):\n\u001b[1;32m   3507\u001b[0m     indexer \u001b[39m=\u001b[39m [indexer]\n",
      "File \u001b[0;32m~/project/TabularDataAugmentation/venv/lib/python3.8/site-packages/pandas/core/indexes/base.py:3623\u001b[0m, in \u001b[0;36mIndex.get_loc\u001b[0;34m(self, key, method, tolerance)\u001b[0m\n\u001b[1;32m   3621\u001b[0m     \u001b[39mreturn\u001b[39;00m \u001b[39mself\u001b[39m\u001b[39m.\u001b[39m_engine\u001b[39m.\u001b[39mget_loc(casted_key)\n\u001b[1;32m   3622\u001b[0m \u001b[39mexcept\u001b[39;00m \u001b[39mKeyError\u001b[39;00m \u001b[39mas\u001b[39;00m err:\n\u001b[0;32m-> 3623\u001b[0m     \u001b[39mraise\u001b[39;00m \u001b[39mKeyError\u001b[39;00m(key) \u001b[39mfrom\u001b[39;00m \u001b[39merr\u001b[39;00m\n\u001b[1;32m   3624\u001b[0m \u001b[39mexcept\u001b[39;00m \u001b[39mTypeError\u001b[39;00m:\n\u001b[1;32m   3625\u001b[0m     \u001b[39m# If we have a listlike key, _check_indexing_error will raise\u001b[39;00m\n\u001b[1;32m   3626\u001b[0m     \u001b[39m#  InvalidIndexError. Otherwise we fall through and re-raise\u001b[39;00m\n\u001b[1;32m   3627\u001b[0m     \u001b[39m#  the TypeError.\u001b[39;00m\n\u001b[1;32m   3628\u001b[0m     \u001b[39mself\u001b[39m\u001b[39m.\u001b[39m_check_indexing_error(key)\n",
      "\u001b[0;31mKeyError\u001b[0m: 280"
     ]
    }
   ],
   "source": [
    "for i in range(277, 278):\n",
    "    print(df[280].unique())"
   ]
  },
  {
   "cell_type": "code",
   "execution_count": null,
   "metadata": {},
   "outputs": [],
   "source": []
  }
 ],
 "metadata": {
  "kernelspec": {
   "display_name": "Python 3.8.10 ('venv': venv)",
   "language": "python",
   "name": "python3"
  },
  "language_info": {
   "codemirror_mode": {
    "name": "ipython",
    "version": 3
   },
   "file_extension": ".py",
   "mimetype": "text/x-python",
   "name": "python",
   "nbconvert_exporter": "python",
   "pygments_lexer": "ipython3",
   "version": "3.8.10"
  },
  "orig_nbformat": 4,
  "vscode": {
   "interpreter": {
    "hash": "de20d6fe0eca0c466662a306a365c9aa9d0ac8052303d86a185c09040380618b"
   }
  }
 },
 "nbformat": 4,
 "nbformat_minor": 2
}
